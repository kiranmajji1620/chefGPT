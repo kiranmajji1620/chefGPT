{
 "cells": [
  {
   "cell_type": "code",
   "execution_count": 1,
   "metadata": {},
   "outputs": [
    {
     "name": "stdout",
     "output_type": "stream",
     "text": [
      "{'results': [{'id': 635675, 'title': 'Boozy Bbq Chicken', 'image': 'https://img.spoonacular.com/recipes/635675-312x231.jpg', 'imageType': 'jpg'}, {'id': 641836, 'title': 'Easy Baked Parmesan Chicken', 'image': 'https://img.spoonacular.com/recipes/641836-312x231.jpg', 'imageType': 'jpg'}, {'id': 645673, 'title': 'Grilled Chicken With Spinach-Chive Pesto', 'image': 'https://img.spoonacular.com/recipes/645673-312x231.jpg', 'imageType': 'jpg'}, {'id': 652421, 'title': 'Moroccan Chicken Tagine', 'image': 'https://img.spoonacular.com/recipes/652421-312x231.jpg', 'imageType': 'jpg'}, {'id': 629963, 'title': 'chilli chicken', 'image': 'https://img.spoonacular.com/recipes/629963-312x231.jpg', 'imageType': 'jpg'}, {'id': 638550, 'title': 'Chili Chicken Salad', 'image': 'https://img.spoonacular.com/recipes/638550-312x231.jpg', 'imageType': 'jpg'}, {'id': 663868, 'title': 'Tropical Thai Chicken Curry', 'image': 'https://img.spoonacular.com/recipes/663868-312x231.jpg', 'imageType': 'jpg'}, {'id': 631747, 'title': 'Dutch Oven Paella', 'image': 'https://img.spoonacular.com/recipes/631747-312x231.jpg', 'imageType': 'jpg'}, {'id': 645657, 'title': 'Grilled Chicken Skewers with Asian Flavors', 'image': 'https://img.spoonacular.com/recipes/645657-312x231.jpg', 'imageType': 'jpg'}, {'id': 632815, 'title': 'Asian Chicken Noodle Soup', 'image': 'https://img.spoonacular.com/recipes/632815-312x231.jpg', 'imageType': 'jpg'}], 'offset': 0, 'number': 10, 'totalResults': 620}\n"
     ]
    }
   ],
   "source": [
    "import requests\n",
    "\n",
    "def fetch_recipes(query):\n",
    "    api_key = '7b91e4a205564519afd3e1d7fce7f749'\n",
    "    url = f\"https://api.spoonacular.com/recipes/complexSearch?query={query}&apiKey={api_key}\"\n",
    "    response = requests.get(url)\n",
    "    return response.json()\n",
    "    \n",
    "print(fetch_recipes(\"chicken\"))"
   ]
  }
 ],
 "metadata": {
  "kernelspec": {
   "display_name": "Python 3",
   "language": "python",
   "name": "python3"
  },
  "language_info": {
   "codemirror_mode": {
    "name": "ipython",
    "version": 3
   },
   "file_extension": ".py",
   "mimetype": "text/x-python",
   "name": "python",
   "nbconvert_exporter": "python",
   "pygments_lexer": "ipython3",
   "version": "3.10.0"
  },
  "orig_nbformat": 4
 },
 "nbformat": 4,
 "nbformat_minor": 2
}
